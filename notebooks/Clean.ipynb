{
 "cells": [
  {
   "cell_type": "code",
   "execution_count": 1,
   "metadata": {},
   "outputs": [],
   "source": [
    "import pydicom # dicom handler package\n",
    "import cv2 \n",
    "import pandas as pd\n",
    "import matplotlib.pyplot as plt\n",
    "%matplotlib inline\n",
    "import numpy as np\n",
    "import scipy.ndimage\n",
    "import os\n",
    "from mpl_toolkits.mplot3d.art3d import Poly3DCollection\n",
    "import pickle"
   ]
  },
  {
   "cell_type": "markdown",
   "metadata": {},
   "source": [
    "# Functions for image manipulation"
   ]
  },
  {
   "cell_type": "code",
   "execution_count": 16,
   "metadata": {},
   "outputs": [],
   "source": [
    "def load_scan(path):\n",
    "    file_list = []\n",
    "    for dirName, subdirList, fileList in os.walk(path):\n",
    "        for filename in fileList:\n",
    "            if \".dcm\" in filename.lower():\n",
    "                file_list.append(os.path.join(dirName,filename))\n",
    "    return file_list\n",
    "\n",
    "def extract_pixel_spacing(files, outputFilename = 'PixelSpacing_ForTestData.csv'):\n",
    "    size_data = {'x':[],'y':[]}\n",
    "    for filenameDCM in files:\n",
    "        # read the file\n",
    "        ds = pydicom.read_file(filenameDCM, stop_before_pixels=True)\n",
    "        try:\n",
    "            size_data['x'].append(ds.ImagerPixelSpacing[0])\n",
    "            size_data['y'].append(ds.ImagerPixelSpacing[1])\n",
    "        except Exception as e:\n",
    "            size_data['x'].append(ds.PixelSpacing[0])\n",
    "            size_data['y'].append(ds.PixelSpacing[1])\n",
    "    pd.DataFrame(size_data).to_csv(outputFilename)\n",
    "\n",
    "def resize_dicom_image(image, size_x = 6000, size_y=6000):\n",
    "    result =cv2.resize(image, dsize=(size_x, size_y), interpolation= cv2.INTER_CUBIC)\n",
    "    return result\n",
    "\n",
    "\n",
    "def create_unified_sized_image(dicom_file):\n",
    "    ConstPixelDims = (int(dicom_file.Rows), int(dicom_file.Columns))\n",
    "    ConstPixelSpacing = (float(RefDs.ImagerPixelSpacing[0]),float(RefDs.ImagerPixelSpacing[1]))\n",
    "    x = np.arange(0.0, (ConstPixelDims[0]+1)*ConstPixelSpacing[0], ConstPixelSpacing[0])\n",
    "    y = np.arange(0.0, (ConstPixelDims[1]+1)*ConstPixelSpacing[1], ConstPixelSpacing[1])\n",
    "\n",
    "    \n",
    "def create_teaching_array(files, size = 576):\n",
    "    #Taking the first image as a reference base\n",
    "    reference = pydicom.read_file(files[0])\n",
    "    ReferenceConstPixelDims = (int(reference.Rows), int(reference.Columns), len(files))\n",
    "    ReferenceConstPixelDims = (size, size, len(files))\n",
    "    ArrayImg = np.zeros(ReferenceConstPixelDims, dtype = reference.pixel_array.dtype)\n",
    "    \n",
    "    for index,fileName in enumerate(files):\n",
    "        if index / 100 == 0:\n",
    "            print('100 parsed!')\n",
    "        ds = pydicom.read_file(fileName)\n",
    "        #unified_image = create_unified_sized_image(ds)\n",
    "        resized = resize_dicom_image(ds.pixel_array, size_x = size, size_y = size)\n",
    "        ArrayImg[:,:,index] = resized\n",
    "    return ArrayImg\n",
    "\n",
    "def preproceess_images(filePath, max_num):\n",
    "    files = load_scan(filePath)\n",
    "    files = files[0:max_num]\n",
    "    teach_array = create_teaching_array(files, size = 1024)\n",
    "    print(\"Teaching array is ready!\\nImage size: {0}x{0}, with {1} images\".format(1024, max_num))\n",
    "    #pickle.dump(teach_array, open(\"teach_array.p\", \"wb\"))\n",
    "    return teach_array"
   ]
  },
  {
   "cell_type": "code",
   "execution_count": 17,
   "metadata": {},
   "outputs": [
    {
     "name": "stdout",
     "output_type": "stream",
     "text": [
      "4682\n",
      "Wall time: 40 ms\n"
     ]
    }
   ],
   "source": [
    "%%time\n",
    "file = load_scan(input_root)\n",
    "print(len(file))"
   ]
  },
  {
   "cell_type": "code",
   "execution_count": 48,
   "metadata": {},
   "outputs": [
    {
     "name": "stdout",
     "output_type": "stream",
     "text": [
      "100 parsed!\n",
      "Teaching array is ready!\n",
      "Image size: 1024x1024, with 250 images\n",
      "Wall time: 3.89 s\n"
     ]
    }
   ],
   "source": [
    "%%time\n",
    "# Populating file list data\n",
    "input_root = 'D:\\\\Lung\\\\'\n",
    "teach_array = preproceess_images(input_root,250)"
   ]
  },
  {
   "cell_type": "code",
   "execution_count": 68,
   "metadata": {},
   "outputs": [],
   "source": [
    "import os\n",
    "def to_jpeg(filename, folder):\n",
    "    dicom_image = pydicom.read_file(filename)\n",
    "    cv2.imwrite(folder + os.sep + parse_path_to_filename(filename) ,dicom_image.pixel_array)\n",
    "    \n",
    "def parse_path_to_filename(path):\n",
    "    new_value = path.replace(os.sep,\"_\")\n",
    "    new_value = new_value.replace(\"/\",'_')\n",
    "    new_value = new_value.replace(\":\",\"\")\n",
    "    new_value = new_value.replace(\" \",\"\")\n",
    "    new_value = new_value.split(\".\")[-2]\n",
    "    new_value += '.jpg'\n",
    "    return new_value"
   ]
  },
  {
   "cell_type": "code",
   "execution_count": 76,
   "metadata": {},
   "outputs": [
    {
     "name": "stdout",
     "output_type": "stream",
     "text": [
      "Starting the conversion of : 4682\n",
      "Wall time: 2min 4s\n"
     ]
    }
   ],
   "source": [
    "%%time\n",
    "print(\"Starting the conversion of :\" , len(file))\n",
    "for index, element in enumerate(file):\n",
    "    to_jpeg(element, folder ='converted')"
   ]
  },
  {
   "cell_type": "code",
   "execution_count": 30,
   "metadata": {},
   "outputs": [],
   "source": [
    "import tensorflow as tf\n",
    "from tensorflow.keras.preprocessing.image import ImageDataGenerator"
   ]
  },
  {
   "cell_type": "code",
   "execution_count": 32,
   "metadata": {},
   "outputs": [],
   "source": [
    "train_datagen = ImageDataGenerator(\n",
    "    rescale = 1./255,\n",
    "    shear_range = 0.2,\n",
    "    zoom_range = 0.2,\n",
    "    rotation_range = 20,\n",
    "    width_shift_range = 0.2,\n",
    "    height_shift_range = 0.2,\n",
    "    horizontal_flip = True)\n",
    "\n",
    "val_datagen = ImageDataGenerator(\n",
    "    rescale = 1./255)"
   ]
  },
  {
   "cell_type": "code",
   "execution_count": null,
   "metadata": {},
   "outputs": [],
   "source": [
    "train_generator = train_datagen.flow_from_directory()"
   ]
  }
 ],
 "metadata": {
  "kernelspec": {
   "display_name": "Python 3",
   "language": "python",
   "name": "python3"
  },
  "language_info": {
   "codemirror_mode": {
    "name": "ipython",
    "version": 3
   },
   "file_extension": ".py",
   "mimetype": "text/x-python",
   "name": "python",
   "nbconvert_exporter": "python",
   "pygments_lexer": "ipython3",
   "version": "3.6.4"
  }
 },
 "nbformat": 4,
 "nbformat_minor": 2
}
