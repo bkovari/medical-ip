{
 "cells": [
  {
   "cell_type": "markdown",
   "metadata": {},
   "source": [
    "# This Notebook handles the merging of the input images in each subdirectory\n",
    "\n",
    "All subdirectory images will be converted to uniform sized (1900x4300) greyscale image, and concatenated together in a predefined way "
   ]
  },
  {
   "cell_type": "code",
   "execution_count": 1,
   "metadata": {},
   "outputs": [],
   "source": [
    "import numpy as np\n",
    "import cv2 as cv\n",
    "import matplotlib.pyplot as plt\n",
    "import os\n",
    "from multiprocessing import Pool"
   ]
  },
  {
   "cell_type": "code",
   "execution_count": 2,
   "metadata": {},
   "outputs": [],
   "source": [
    "def parse_and_resize(image_path, sy = 4300, sx = 1900):\n",
    "    #image = cv.cvtColor(plt.imread(image_path), cv.COLOR_RGB2GRAY)\n",
    "    image = plt.imread(image_path)\n",
    "    resized = cv.resize(image, (sx,sy), interpolation = cv.INTER_CUBIC)\n",
    "    return resized\n",
    "\n",
    "def merge(top_left, top_right, bottom_left, bottom_right):\n",
    "    a = np.hstack((top_left, top_right))\n",
    "    b = np.hstack((bottom_left, bottom_right))\n",
    "    c = np.vstack((a,b))\n",
    "    return c\n",
    "\n",
    "#Parsing the images in each subdirectory, to combine them later one single image \n",
    "def load_files(root):\n",
    "    content = {}\n",
    "    for directory, subdir, files in os.walk(root):\n",
    "        #Check each file..\n",
    "        for file in files:\n",
    "            #If it's a jpg...\n",
    "            if '.tiff' in file:\n",
    "                # Save the parent directory as a key in content dict\n",
    "                dir_as_key = directory.replace(root,'')\n",
    "                # If this is the first one, create a list to store the file paths\n",
    "                if dir_as_key not in content.keys():\n",
    "                    content[dir_as_key] = []\n",
    "                # Add path to image to the subdirectory key\n",
    "                #print('\\tlooking at file', os.path.join(directory,file))\n",
    "                content[dir_as_key].append(os.path.join(directory,file))\n",
    "    return content\n",
    "#Complete process to merge images in all subdirectory\n",
    "def merge_all_subdir_images(root):\n",
    "    collection = load_files(root)\n",
    "    merged_images = {}\n",
    "    for key in collection.keys():\n",
    "        images = collection[key]\n",
    "        merged_images[key] = merge(parse_and_resize(images[1]),\n",
    "                                   parse_and_resize(images[3]),\n",
    "                                   parse_and_resize(images[0]),\n",
    "                                   parse_and_resize(images[2]))\n",
    "        plt.imsave('train/{0}.jpg'.format(key), merged_images[key], cmap = 'gray')\n",
    "        print('Finished parsing & merging for {0}!'.format(key))\n",
    "        del merged_images[key]\n",
    " "
   ]
  },
  {
   "cell_type": "code",
   "execution_count": 5,
   "metadata": {},
   "outputs": [
    {
     "ename": "error",
     "evalue": "OpenCV(3.4.3) c:\\projects\\opencv-python\\opencv\\modules\\imgproc\\src\\color.hpp:255: error: (-2:Unspecified error) in function '__cdecl cv::CvtHelper<struct cv::Set<3,4,-1>,struct cv::Set<1,-1,-1>,struct cv::Set<0,2,5>,2>::CvtHelper(const class cv::_InputArray &,const class cv::_OutputArray &,int)'\n> Invalid number of channels in input image:\n>     'VScn::contains(scn)'\n> where\n>     'scn' is 1\n",
     "output_type": "error",
     "traceback": [
      "\u001b[1;31m---------------------------------------------------------------------------\u001b[0m",
      "\u001b[1;31merror\u001b[0m                                     Traceback (most recent call last)",
      "\u001b[1;32m<timed exec>\u001b[0m in \u001b[0;36m<module>\u001b[1;34m()\u001b[0m\n",
      "\u001b[1;32m<ipython-input-4-d3d7e056dc9f>\u001b[0m in \u001b[0;36mmerge_all_subdir_images\u001b[1;34m(root)\u001b[0m\n\u001b[0;32m     33\u001b[0m     \u001b[1;32mfor\u001b[0m \u001b[0mkey\u001b[0m \u001b[1;32min\u001b[0m \u001b[0mcollection\u001b[0m\u001b[1;33m.\u001b[0m\u001b[0mkeys\u001b[0m\u001b[1;33m(\u001b[0m\u001b[1;33m)\u001b[0m\u001b[1;33m:\u001b[0m\u001b[1;33m\u001b[0m\u001b[0m\n\u001b[0;32m     34\u001b[0m         \u001b[0mimages\u001b[0m \u001b[1;33m=\u001b[0m \u001b[0mcollection\u001b[0m\u001b[1;33m[\u001b[0m\u001b[0mkey\u001b[0m\u001b[1;33m]\u001b[0m\u001b[1;33m\u001b[0m\u001b[0m\n\u001b[1;32m---> 35\u001b[1;33m         merged_images[key] = merge(parse_and_resize(images[1]),\n\u001b[0m\u001b[0;32m     36\u001b[0m                                    \u001b[0mparse_and_resize\u001b[0m\u001b[1;33m(\u001b[0m\u001b[0mimages\u001b[0m\u001b[1;33m[\u001b[0m\u001b[1;36m3\u001b[0m\u001b[1;33m]\u001b[0m\u001b[1;33m)\u001b[0m\u001b[1;33m,\u001b[0m\u001b[1;33m\u001b[0m\u001b[0m\n\u001b[0;32m     37\u001b[0m                                    \u001b[0mparse_and_resize\u001b[0m\u001b[1;33m(\u001b[0m\u001b[0mimages\u001b[0m\u001b[1;33m[\u001b[0m\u001b[1;36m0\u001b[0m\u001b[1;33m]\u001b[0m\u001b[1;33m)\u001b[0m\u001b[1;33m,\u001b[0m\u001b[1;33m\u001b[0m\u001b[0m\n",
      "\u001b[1;32m<ipython-input-4-d3d7e056dc9f>\u001b[0m in \u001b[0;36mparse_and_resize\u001b[1;34m(image_path, sy, sx)\u001b[0m\n\u001b[0;32m      1\u001b[0m \u001b[1;32mdef\u001b[0m \u001b[0mparse_and_resize\u001b[0m\u001b[1;33m(\u001b[0m\u001b[0mimage_path\u001b[0m\u001b[1;33m,\u001b[0m \u001b[0msy\u001b[0m \u001b[1;33m=\u001b[0m \u001b[1;36m4300\u001b[0m\u001b[1;33m,\u001b[0m \u001b[0msx\u001b[0m \u001b[1;33m=\u001b[0m \u001b[1;36m1900\u001b[0m\u001b[1;33m)\u001b[0m\u001b[1;33m:\u001b[0m\u001b[1;33m\u001b[0m\u001b[0m\n\u001b[1;32m----> 2\u001b[1;33m     \u001b[0mimage\u001b[0m \u001b[1;33m=\u001b[0m \u001b[0mcv\u001b[0m\u001b[1;33m.\u001b[0m\u001b[0mcvtColor\u001b[0m\u001b[1;33m(\u001b[0m\u001b[0mplt\u001b[0m\u001b[1;33m.\u001b[0m\u001b[0mimread\u001b[0m\u001b[1;33m(\u001b[0m\u001b[0mimage_path\u001b[0m\u001b[1;33m)\u001b[0m\u001b[1;33m,\u001b[0m \u001b[0mcv\u001b[0m\u001b[1;33m.\u001b[0m\u001b[0mCOLOR_RGB2GRAY\u001b[0m\u001b[1;33m)\u001b[0m\u001b[1;33m\u001b[0m\u001b[0m\n\u001b[0m\u001b[0;32m      3\u001b[0m     \u001b[0mresized\u001b[0m \u001b[1;33m=\u001b[0m \u001b[0mcv\u001b[0m\u001b[1;33m.\u001b[0m\u001b[0mresize\u001b[0m\u001b[1;33m(\u001b[0m\u001b[0mimage\u001b[0m\u001b[1;33m,\u001b[0m \u001b[1;33m(\u001b[0m\u001b[0msx\u001b[0m\u001b[1;33m,\u001b[0m\u001b[0msy\u001b[0m\u001b[1;33m)\u001b[0m\u001b[1;33m,\u001b[0m \u001b[0minterpolation\u001b[0m \u001b[1;33m=\u001b[0m \u001b[0mcv\u001b[0m\u001b[1;33m.\u001b[0m\u001b[0mINTER_CUBIC\u001b[0m\u001b[1;33m)\u001b[0m\u001b[1;33m\u001b[0m\u001b[0m\n\u001b[0;32m      4\u001b[0m     \u001b[1;32mreturn\u001b[0m \u001b[0mresized\u001b[0m\u001b[1;33m\u001b[0m\u001b[0m\n\u001b[0;32m      5\u001b[0m \u001b[1;33m\u001b[0m\u001b[0m\n",
      "\u001b[1;31merror\u001b[0m: OpenCV(3.4.3) c:\\projects\\opencv-python\\opencv\\modules\\imgproc\\src\\color.hpp:255: error: (-2:Unspecified error) in function '__cdecl cv::CvtHelper<struct cv::Set<3,4,-1>,struct cv::Set<1,-1,-1>,struct cv::Set<0,2,5>,2>::CvtHelper(const class cv::_InputArray &,const class cv::_OutputArray &,int)'\n> Invalid number of channels in input image:\n>     'VScn::contains(scn)'\n> where\n>     'scn' is 1\n"
     ]
    }
   ],
   "source": [
    "%%time\n",
    "root = 'cancers/'\n",
    "merge_all_subdir_images(root)"
   ]
  },
  {
   "cell_type": "code",
   "execution_count": 7,
   "metadata": {},
   "outputs": [
    {
     "data": {
      "text/plain": [
       "array([[189, 200, 202, ...,   1,   1,   1],\n",
       "       [ 34,  40,  40, ...,   1,   1,   1],\n",
       "       [  7,   7,   7, ...,   1,   1,   1],\n",
       "       ...,\n",
       "       [  0,   0,   0, ...,   0,   0,   0],\n",
       "       [  0,   0,   0, ...,   0,   0,   0],\n",
       "       [  0,   0,   0, ...,   0,   0,   0]], dtype=uint8)"
      ]
     },
     "execution_count": 7,
     "metadata": {},
     "output_type": "execute_result"
    }
   ],
   "source": [
    "plt.imread(root + '/subdir1/A_0002_1.LEFT_CC.jpg')"
   ]
  },
  {
   "cell_type": "code",
   "execution_count": null,
   "metadata": {},
   "outputs": [],
   "source": []
  }
 ],
 "metadata": {
  "kernelspec": {
   "display_name": "Python 3",
   "language": "python",
   "name": "python3"
  },
  "language_info": {
   "codemirror_mode": {
    "name": "ipython",
    "version": 3
   },
   "file_extension": ".py",
   "mimetype": "text/x-python",
   "name": "python",
   "nbconvert_exporter": "python",
   "pygments_lexer": "ipython3",
   "version": "3.6.4"
  }
 },
 "nbformat": 4,
 "nbformat_minor": 2
}
