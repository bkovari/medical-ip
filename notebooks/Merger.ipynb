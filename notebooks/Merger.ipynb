{
 "cells": [
  {
   "cell_type": "markdown",
   "metadata": {},
   "source": [
    "# This Notebook handles the merging of the input images in each subdirectory\n",
    "\n",
    "All subdirectory images will be converted to uniform sized (1900x4300) greyscale image, and concatenated together in a predefined way "
   ]
  },
  {
   "cell_type": "code",
   "execution_count": 1,
   "metadata": {},
   "outputs": [],
   "source": [
    "import numpy as np\n",
    "import cv2 as cv\n",
    "import matplotlib.pyplot as plt\n",
    "import os\n",
    "import threading"
   ]
  },
  {
   "cell_type": "code",
   "execution_count": 15,
   "metadata": {},
   "outputs": [],
   "source": [
    "def parse_and_resize(image_path, sy = 4300, sx = 1900):\n",
    "    image = cv.cvtColor(cv.imread(image_path), cv.COLOR_RGB2GRAY)\n",
    "    resized = cv.resize(image, (sx,sy), interpolation = cv.INTER_CUBIC)\n",
    "    return resized\n",
    "\n",
    "def merge(top_left, top_right, bottom_left, bottom_right):\n",
    "    a = np.hstack((top_left, top_right))\n",
    "    b = np.hstack((bottom_left, bottom_right))\n",
    "    c = np.vstack((a,b))\n",
    "    return c\n",
    "\n",
    "#Parsing the images in each subdirectory, to combine them later one single image \n",
    "def load_files(root):\n",
    "    content = {}\n",
    "    for directory, subdir, files in os.walk(root):\n",
    "        #Check each file..\n",
    "        for file in files:\n",
    "            #If it's a jpg...\n",
    "            if '.jpg' in file:\n",
    "                # Save the parent directory as a key in content dict\n",
    "                dir_as_key = directory.replace(root,'')\n",
    "                # If this is the first one, create a list to store the file paths\n",
    "                if dir_as_key not in content.keys():\n",
    "                    content[dir_as_key] = []\n",
    "                # Add path to image to the subdirectory key\n",
    "                #print('\\tlooking at file', os.path.join(directory,file))\n",
    "                content[dir_as_key].append(os.path.join(directory,file))\n",
    "    return content\n",
    "#Complete process to merge images in all subdirectory\n",
    "def merge_all_subdir_images(root):\n",
    "    collection = load_files(root)\n",
    "    merged_images = {}\n",
    "    for key in collection.keys():\n",
    "        images = collection[key]\n",
    "        merged_images[key] = merge(parse_and_resize(images[1]),\n",
    "                                   parse_and_resize(images[3]),\n",
    "                                   parse_and_resize(images[0]),\n",
    "                                   parse_and_resize(images[2]))\n",
    "        print('saving to {0}'.format(key))\n",
    "        plt.imsave('{0}.jpg'.format(key), merged_images[key])\n",
    "        print('Finished parsing & merging for {0}!'.format(key))\n",
    "        del merged_images[key]\n",
    " "
   ]
  },
  {
   "cell_type": "code",
   "execution_count": 16,
   "metadata": {},
   "outputs": [
    {
     "name": "stdout",
     "output_type": "stream",
     "text": [
      "saving to \\subdir1\n",
      "Finished parsing & merging for \\subdir1!\n",
      "saving to \\subdir11\n",
      "Finished parsing & merging for \\subdir11!\n",
      "saving to \\subdir2\n",
      "Finished parsing & merging for \\subdir2!\n",
      "saving to \\subdir22\n",
      "Finished parsing & merging for \\subdir22!\n",
      "saving to \\subdir3\n",
      "Finished parsing & merging for \\subdir3!\n",
      "saving to \\subdir33\n",
      "Finished parsing & merging for \\subdir33!\n",
      "saving to \\subdir4\n",
      "Finished parsing & merging for \\subdir4!\n",
      "saving to \\subdir44\n",
      "Finished parsing & merging for \\subdir44!\n",
      "Wall time: 31.1 s\n"
     ]
    }
   ],
   "source": [
    "%%time\n",
    "root = 'D:\\\\NeuralNetworkData\\\\case0002\\\\images'\n",
    "merge_all_subdir_images(root)"
   ]
  },
  {
   "cell_type": "code",
   "execution_count": null,
   "metadata": {},
   "outputs": [],
   "source": []
  }
 ],
 "metadata": {
  "kernelspec": {
   "display_name": "Python 3",
   "language": "python",
   "name": "python3"
  },
  "language_info": {
   "codemirror_mode": {
    "name": "ipython",
    "version": 3
   },
   "file_extension": ".py",
   "mimetype": "text/x-python",
   "name": "python",
   "nbconvert_exporter": "python",
   "pygments_lexer": "ipython3",
   "version": "3.6.4"
  }
 },
 "nbformat": 4,
 "nbformat_minor": 2
}
